{
  "nbformat": 4,
  "nbformat_minor": 0,
  "metadata": {
    "colab": {
      "provenance": []
    },
    "kernelspec": {
      "name": "python3",
      "display_name": "Python 3"
    },
    "language_info": {
      "name": "python"
    }
  },
  "cells": [
    {
      "cell_type": "code",
      "source": [
        "import numpy as np\n",
        "from scipy.stats import ttest_ind\n",
        "\n",
        "new_machine = [42.1, 41, 41.3, 41.8, 42.4, 42.8, 43.2, 42.3, 41.8, 42.7]\n",
        "old_machine = [42.7, 43.6, 43.8, 43.3, 42.5, 43.5, 43.1, 41.7, 44, 44.1]\n",
        "\n",
        "t_statistic, p_value = ttest_ind(new_machine, old_machine, alternative='less', equal_var=True)\n",
        "\n",
        "alpha = 0.05\n",
        "\n",
        "print(\"T-statistic:\", t_statistic)\n",
        "print(\"P-value:\", p_value)\n",
        "\n",
        "if p_value < alpha:\n",
        "    print(\"Reject the null hypothesis. There is sufficient evidence to show that the new machine packs faster than the old machine.\")\n",
        "else:\n",
        "    print(\"Fail to reject the null hypothesis. There is not enough evidence to show that the new machine packs faster than the old machine.\")"
      ],
      "metadata": {
        "colab": {
          "base_uri": "https://localhost:8080/"
        },
        "id": "t2IWgt3al1FH",
        "outputId": "96a0f8c7-4825-472c-ac12-cce47350c63b"
      },
      "execution_count": 1,
      "outputs": [
        {
          "output_type": "stream",
          "name": "stdout",
          "text": [
            "T-statistic: -3.3972307061176026\n",
            "P-value: 0.0016055712503872579\n",
            "Reject the null hypothesis. There is sufficient evidence to show that the new machine packs faster than the old machine.\n"
          ]
        }
      ]
    },
    {
      "cell_type": "code",
      "source": [
        "ttest_ind(new_machine, old_machine)"
      ],
      "metadata": {
        "colab": {
          "base_uri": "https://localhost:8080/"
        },
        "id": "H_Bo309soRCz",
        "outputId": "a4dfc89a-13ae-4a76-9610-d38ebc640c82"
      },
      "execution_count": 2,
      "outputs": [
        {
          "output_type": "execute_result",
          "data": {
            "text/plain": [
              "TtestResult(statistic=-3.3972307061176026, pvalue=0.0032111425007745158, df=18.0)"
            ]
          },
          "metadata": {},
          "execution_count": 2
        }
      ]
    }
  ]
}